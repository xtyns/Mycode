{
 "cells": [
  {
   "cell_type": "code",
   "execution_count": null,
   "id": "1db5d603",
   "metadata": {},
   "outputs": [],
   "source": []
  },
  {
   "cell_type": "markdown",
   "id": "6785cc22",
   "metadata": {},
   "source": [
    "# 什么是数据科学\n",
    "**严江伟** *20231071*\n",
    "\n",
    "数据科学是一门跨学科领域，它结合了统计学、计算机科学、数学以及领域知识（如生物学、经济学、物理学等），通过系统地收集、处理、分析以及解释数据，来揭示隐藏在数据背后的模式和知识，进而支持决策制定、优化流程、创新产品与服务等。数据科学的核心在于利用大数据技术和算法，从复杂的数据集中提取有价值的信息和洞见，以实现数据的增值和转化。\n",
    "\n"
   ]
  }
 ],
 "metadata": {
  "kernelspec": {
   "display_name": "Python 3 (ipykernel)",
   "language": "python",
   "name": "python3"
  },
  "language_info": {
   "codemirror_mode": {
    "name": "ipython",
    "version": 3
   },
   "file_extension": ".py",
   "mimetype": "text/x-python",
   "name": "python",
   "nbconvert_exporter": "python",
   "pygments_lexer": "ipython3",
   "version": "3.12.4"
  }
 },
 "nbformat": 4,
 "nbformat_minor": 5
}
